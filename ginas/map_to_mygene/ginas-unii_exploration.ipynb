{
 "cells": [
  {
   "cell_type": "code",
   "execution_count": 1,
   "metadata": {
    "collapsed": true
   },
   "outputs": [],
   "source": [
    "## exploring the ginas-UNII mapping\n",
    "# run `run.sh` in this folder"
   ]
  },
  {
   "cell_type": "code",
   "execution_count": 5,
   "metadata": {
    "collapsed": false
   },
   "outputs": [],
   "source": [
    "import pandas as pd\n",
    "df = pd.read_csv('fullSeedData-2016-06-16_UNII.csv', index_col=0, low_memory=False)"
   ]
  },
  {
   "cell_type": "code",
   "execution_count": 14,
   "metadata": {
    "collapsed": false
   },
   "outputs": [
    {
     "data": {
      "text/plain": [
       "CAS                   55803\n",
       "CAS_primary           55531\n",
       "CFR                    1508\n",
       "DRUG BANK              1769\n",
       "ECHA (EC/EINECS)      20376\n",
       "EPA PESTICIDE CODE     2522\n",
       "EVMPD                  5196\n",
       "INN                    7992\n",
       "IUPHAR                 1101\n",
       "JECFA EVALUATION       1818\n",
       "MERCK INDEX           14679\n",
       "MESH                  10324\n",
       "NCI_THESAURUS         10545\n",
       "NDF-RT                 1082\n",
       "RXCUI_x                6503\n",
       "UNII                  55803\n",
       "WHO-ATC                2696\n",
       "WHO-VATC               2884\n",
       "WIKIPEDIA              7133\n",
       "mixture_UNII           1372\n",
       "names                 55803\n",
       "preferred_names       55803\n",
       "substanceClass        55803\n",
       "uuid                  55803\n",
       "PT                    55802\n",
       "RN                    55785\n",
       "EC                    20390\n",
       "NCIT                  10574\n",
       "RXCUI_y                6683\n",
       "INN_ID                 8045\n",
       "MF                    54428\n",
       "INCHIKEY              44673\n",
       "SMILES                53983\n",
       "UNII_TYPE             55802\n",
       "dtype: int64"
      ]
     },
     "execution_count": 14,
     "metadata": {},
     "output_type": "execute_result"
    }
   ],
   "source": [
    "# show counts for each column (exclude columns with less than 1000 for brevity)\n",
    "df[df.columns[df.count()>1000]].count()"
   ]
  },
  {
   "cell_type": "code",
   "execution_count": 19,
   "metadata": {
    "collapsed": false
   },
   "outputs": [
    {
     "data": {
      "text/plain": [
       "chemical    54431\n",
       "mixture      1372\n",
       "Name: substanceClass, dtype: int64"
      ]
     },
     "execution_count": 19,
     "metadata": {},
     "output_type": "execute_result"
    }
   ],
   "source": [
    "df.substanceClass.value_counts()"
   ]
  },
  {
   "cell_type": "code",
   "execution_count": 18,
   "metadata": {
    "collapsed": false
   },
   "outputs": [
    {
     "data": {
      "text/plain": [
       "chemical    9758\n",
       "mixture     1372\n",
       "Name: substanceClass, dtype: int64"
      ]
     },
     "execution_count": 18,
     "metadata": {},
     "output_type": "execute_result"
    }
   ],
   "source": [
    "# Of those that are missing an inchikey, what class are they?\n",
    "inchi_null = df[df.INCHIKEY.isnull()]\n",
    "inchi_null.substanceClass.value_counts()\n",
    "# ~10k chemicals are missing, and all mixtures"
   ]
  },
  {
   "cell_type": "code",
   "execution_count": 34,
   "metadata": {
    "collapsed": false
   },
   "outputs": [
    {
     "data": {
      "text/html": [
       "<div>\n",
       "<table border=\"1\" class=\"dataframe\">\n",
       "  <thead>\n",
       "    <tr style=\"text-align: right;\">\n",
       "      <th></th>\n",
       "      <th>CAS_primary</th>\n",
       "      <th>mixture_UNII</th>\n",
       "      <th>preferred_names</th>\n",
       "    </tr>\n",
       "  </thead>\n",
       "  <tbody>\n",
       "    <tr>\n",
       "      <th>66</th>\n",
       "      <td>130-81-4</td>\n",
       "      <td>271XMD080E|92K78B4931</td>\n",
       "      <td>QUINDONIUM BROMIDE</td>\n",
       "    </tr>\n",
       "    <tr>\n",
       "      <th>76</th>\n",
       "      <td>41903-57-5</td>\n",
       "      <td>DO80M48B6O|P30XU4W6C1|HF5S8P28CC|J62NF50EHT|25...</td>\n",
       "      <td>TETRACHLORODIBENZO-P-DIOXIN (MIXED ISOMERS)</td>\n",
       "    </tr>\n",
       "    <tr>\n",
       "      <th>172</th>\n",
       "      <td>32951-19-2</td>\n",
       "      <td>HL8423W31J|C6PL4F56E0</td>\n",
       "      <td>1-(METHYLTHIO)-1-BUTENE</td>\n",
       "    </tr>\n",
       "    <tr>\n",
       "      <th>174</th>\n",
       "      <td>1076-97-7</td>\n",
       "      <td>18W55738KH|68QED0R44U</td>\n",
       "      <td>1,4-CYCLOHEXANEDICARBOXYLIC ACID</td>\n",
       "    </tr>\n",
       "    <tr>\n",
       "      <th>186</th>\n",
       "      <td>102961-72-8</td>\n",
       "      <td>C70V7E56T3|MBP3L2793V|T8KEU6LJBE|4E60GZ933I|6K...</td>\n",
       "      <td>ANTIBIOTIC A-40926</td>\n",
       "    </tr>\n",
       "  </tbody>\n",
       "</table>\n",
       "</div>"
      ],
      "text/plain": [
       "     CAS_primary                                       mixture_UNII  \\\n",
       "66      130-81-4                              271XMD080E|92K78B4931   \n",
       "76    41903-57-5  DO80M48B6O|P30XU4W6C1|HF5S8P28CC|J62NF50EHT|25...   \n",
       "172   32951-19-2                              HL8423W31J|C6PL4F56E0   \n",
       "174    1076-97-7                              18W55738KH|68QED0R44U   \n",
       "186  102961-72-8  C70V7E56T3|MBP3L2793V|T8KEU6LJBE|4E60GZ933I|6K...   \n",
       "\n",
       "                                 preferred_names  \n",
       "66                            QUINDONIUM BROMIDE  \n",
       "76   TETRACHLORODIBENZO-P-DIOXIN (MIXED ISOMERS)  \n",
       "172                      1-(METHYLTHIO)-1-BUTENE  \n",
       "174             1,4-CYCLOHEXANEDICARBOXYLIC ACID  \n",
       "186                           ANTIBIOTIC A-40926  "
      ]
     },
     "execution_count": 34,
     "metadata": {},
     "output_type": "execute_result"
    }
   ],
   "source": [
    "# However, we have the UNIIs within the mixtures, so lets check those\n",
    "df.query(\"substanceClass == 'mixture'\")[['CAS_primary','mixture_UNII','preferred_names']].head()"
   ]
  },
  {
   "cell_type": "code",
   "execution_count": 31,
   "metadata": {
    "collapsed": false
   },
   "outputs": [
    {
     "data": {
      "text/html": [
       "<div>\n",
       "<table border=\"1\" class=\"dataframe\">\n",
       "  <thead>\n",
       "    <tr style=\"text-align: right;\">\n",
       "      <th></th>\n",
       "      <th>CAS_primary</th>\n",
       "      <th>UNII</th>\n",
       "      <th>preferred_names</th>\n",
       "      <th>INCHIKEY</th>\n",
       "    </tr>\n",
       "  </thead>\n",
       "  <tbody>\n",
       "    <tr>\n",
       "      <th>5662</th>\n",
       "      <td>10197-93-0</td>\n",
       "      <td>271XMD080E</td>\n",
       "      <td>QUINDONIUM BROMIDE, CIS-</td>\n",
       "      <td>NaN</td>\n",
       "    </tr>\n",
       "    <tr>\n",
       "      <th>40024</th>\n",
       "      <td>14490-58-5</td>\n",
       "      <td>92K78B4931</td>\n",
       "      <td>QUINDONIUM BROMIDE, TRANS-</td>\n",
       "      <td>NaN</td>\n",
       "    </tr>\n",
       "  </tbody>\n",
       "</table>\n",
       "</div>"
      ],
      "text/plain": [
       "      CAS_primary        UNII             preferred_names INCHIKEY\n",
       "5662   10197-93-0  271XMD080E    QUINDONIUM BROMIDE, CIS-      NaN\n",
       "40024  14490-58-5  92K78B4931  QUINDONIUM BROMIDE, TRANS-      NaN"
      ]
     },
     "execution_count": 31,
     "metadata": {},
     "output_type": "execute_result"
    }
   ],
   "source": [
    "mixture_UNII = df.query(\"substanceClass == 'mixture'\").iloc[0].mixture_UNII.split(\"|\")\n",
    "df[df.UNII.isin(mixture_UNII)][['CAS_primary','UNII','preferred_names','INCHIKEY']]"
   ]
  },
  {
   "cell_type": "code",
   "execution_count": 35,
   "metadata": {
    "collapsed": false
   },
   "outputs": [
    {
     "data": {
      "text/html": [
       "<div>\n",
       "<table border=\"1\" class=\"dataframe\">\n",
       "  <thead>\n",
       "    <tr style=\"text-align: right;\">\n",
       "      <th></th>\n",
       "      <th>CAS_primary</th>\n",
       "      <th>UNII</th>\n",
       "      <th>preferred_names</th>\n",
       "      <th>INCHIKEY</th>\n",
       "    </tr>\n",
       "  </thead>\n",
       "  <tbody>\n",
       "    <tr>\n",
       "      <th>4518</th>\n",
       "      <td>110882-85-4</td>\n",
       "      <td>C70V7E56T3</td>\n",
       "      <td>ANTIBIOTIC A-40926 B1</td>\n",
       "      <td>IMGYVEMZPBHISV-PSDJNXLUSA-N</td>\n",
       "    </tr>\n",
       "    <tr>\n",
       "      <th>11391</th>\n",
       "      <td>110882-82-1</td>\n",
       "      <td>T8KEU6LJBE</td>\n",
       "      <td>ANTIBIOTIC A-40926 A0</td>\n",
       "      <td>UTUMMENGNWNHJZ-PKPPEPSOSA-N</td>\n",
       "    </tr>\n",
       "    <tr>\n",
       "      <th>27941</th>\n",
       "      <td>871088-55-0</td>\n",
       "      <td>6KX5KH4647</td>\n",
       "      <td>ANTIBIOTIC A-40926 B2</td>\n",
       "      <td>OJESFQPLDXJICV-FLAGIKDOSA-N</td>\n",
       "    </tr>\n",
       "    <tr>\n",
       "      <th>30199</th>\n",
       "      <td>110882-83-2</td>\n",
       "      <td>4E60GZ933I</td>\n",
       "      <td>ANTIBIOTIC A-40926 A1</td>\n",
       "      <td>KFFFTRROFFANLL-PKPPEPSOSA-N</td>\n",
       "    </tr>\n",
       "    <tr>\n",
       "      <th>40783</th>\n",
       "      <td>110882-84-3</td>\n",
       "      <td>MBP3L2793V</td>\n",
       "      <td>ANTIBIOTIC A-40926 B0</td>\n",
       "      <td>PZMMGNLKWHJGSE-PSDJNXLUSA-N</td>\n",
       "    </tr>\n",
       "  </tbody>\n",
       "</table>\n",
       "</div>"
      ],
      "text/plain": [
       "       CAS_primary        UNII        preferred_names  \\\n",
       "4518   110882-85-4  C70V7E56T3  ANTIBIOTIC A-40926 B1   \n",
       "11391  110882-82-1  T8KEU6LJBE  ANTIBIOTIC A-40926 A0   \n",
       "27941  871088-55-0  6KX5KH4647  ANTIBIOTIC A-40926 B2   \n",
       "30199  110882-83-2  4E60GZ933I  ANTIBIOTIC A-40926 A1   \n",
       "40783  110882-84-3  MBP3L2793V  ANTIBIOTIC A-40926 B0   \n",
       "\n",
       "                          INCHIKEY  \n",
       "4518   IMGYVEMZPBHISV-PSDJNXLUSA-N  \n",
       "11391  UTUMMENGNWNHJZ-PKPPEPSOSA-N  \n",
       "27941  OJESFQPLDXJICV-FLAGIKDOSA-N  \n",
       "30199  KFFFTRROFFANLL-PKPPEPSOSA-N  \n",
       "40783  PZMMGNLKWHJGSE-PSDJNXLUSA-N  "
      ]
     },
     "execution_count": 35,
     "metadata": {},
     "output_type": "execute_result"
    }
   ],
   "source": [
    "mixture_UNII = df.query(\"substanceClass == 'mixture'\").iloc[4].mixture_UNII.split(\"|\")\n",
    "df[df.UNII.isin(mixture_UNII)][['CAS_primary','UNII','preferred_names','INCHIKEY']]"
   ]
  },
  {
   "cell_type": "code",
   "execution_count": null,
   "metadata": {
    "collapsed": true
   },
   "outputs": [],
   "source": [
    "# QUINDONIUM BROMIDE is a mixture of QUINDONIUM BROMIDE, CIS- and TRANS-, which still don't have inchi_keys\n",
    "# but antibiotic A40926's components do...."
   ]
  },
  {
   "cell_type": "code",
   "execution_count": 100,
   "metadata": {
    "collapsed": false
   },
   "outputs": [
    {
     "data": {
      "text/plain": [
       "True     880\n",
       "False    492\n",
       "Name: mixture_UNII, dtype: int64"
      ]
     },
     "execution_count": 100,
     "metadata": {},
     "output_type": "execute_result"
    }
   ],
   "source": [
    "# mix_comp_inchi = True if any componenets of the mixture have an InchiKey\n",
    "mixture_UNII = df.query(\"substanceClass == 'mixture'\").mixture_UNII.str.split(\"|\")\n",
    "mix_comp_inchi = mixture_UNII.map(lambda x: df[df.UNII.isin(x)].INCHIKEY.notnull().any())\n",
    "df['mix_comp_inchi'] = mix_comp_inchi\n",
    "mix_comp_inchi.value_counts()\n",
    "# we have inchikeys for the components for 880/1372 mixtures"
   ]
  },
  {
   "cell_type": "code",
   "execution_count": 112,
   "metadata": {
    "collapsed": false
   },
   "outputs": [
    {
     "data": {
      "text/plain": [
       "CAS                 9758\n",
       "CAS_primary         9687\n",
       "ECHA (EC/EINECS)    3221\n",
       "EVMPD               1352\n",
       "INN                 1850\n",
       "MERCK INDEX         2302\n",
       "MESH                1632\n",
       "NCI_THESAURUS       2219\n",
       "RXCUI_x             1254\n",
       "UNII                9758\n",
       "WIKIPEDIA           1052\n",
       "names               9758\n",
       "preferred_names     9758\n",
       "substanceClass      9758\n",
       "uuid                9758\n",
       "PT                  9757\n",
       "RN                  9757\n",
       "EC                  3229\n",
       "NCIT                2220\n",
       "RXCUI_y             1292\n",
       "INN_ID              1852\n",
       "MF                  9755\n",
       "SMILES              9558\n",
       "UNII_TYPE           9757\n",
       "dtype: int64"
      ]
     },
     "execution_count": 112,
     "metadata": {},
     "output_type": "execute_result"
    }
   ],
   "source": [
    "# get all chemicals\n",
    "chem = df.query(\"substanceClass == 'chemical'\")\n",
    "chem_noinchi = chem[chem.INCHIKEY.isnull()]\n",
    "chem_noinchi[chem_noinchi.columns[chem_noinchi.count()>1000]].count()"
   ]
  },
  {
   "cell_type": "code",
   "execution_count": 114,
   "metadata": {
    "collapsed": false
   },
   "outputs": [
    {
     "data": {
      "text/html": [
       "<div>\n",
       "<table border=\"1\" class=\"dataframe\">\n",
       "  <thead>\n",
       "    <tr style=\"text-align: right;\">\n",
       "      <th></th>\n",
       "      <th>CAS</th>\n",
       "      <th>CAS_primary</th>\n",
       "      <th>UNII</th>\n",
       "      <th>names</th>\n",
       "      <th>preferred_names</th>\n",
       "      <th>substanceClass</th>\n",
       "      <th>uuid</th>\n",
       "      <th>PT</th>\n",
       "      <th>RN</th>\n",
       "      <th>MF</th>\n",
       "      <th>SMILES</th>\n",
       "      <th>UNII_TYPE</th>\n",
       "    </tr>\n",
       "  </thead>\n",
       "  <tbody>\n",
       "    <tr>\n",
       "      <th>2</th>\n",
       "      <td>51599-37-2|43064-17-1</td>\n",
       "      <td>51599-37-2</td>\n",
       "      <td>25619NA95Y</td>\n",
       "      <td>TOLAMOLOL HYDROCHLORIDE|BENZAMIDE, 4-(2-((2-HY...</td>\n",
       "      <td>TOLAMOLOL HYDROCHLORIDE</td>\n",
       "      <td>chemical</td>\n",
       "      <td>00021c3c-4469-4bfd-8f12-5fee4410f7e6</td>\n",
       "      <td>TOLAMOLOL HYDROCHLORIDE</td>\n",
       "      <td>51599-37-2</td>\n",
       "      <td>C19H24N2O4.ClH</td>\n",
       "      <td>Cc1ccccc1OCC(CNCCOc2ccc(cc2)C(=O)N)O.Cl</td>\n",
       "      <td>INGREDIENT SUBSTANCE</td>\n",
       "    </tr>\n",
       "    <tr>\n",
       "      <th>8</th>\n",
       "      <td>7020-55-5</td>\n",
       "      <td>7020-55-5</td>\n",
       "      <td>BO76JF850N</td>\n",
       "      <td>CLIDINIUM|1-AZONIABICYCLO(2.2.2)OCTANE, 3-((HY...</td>\n",
       "      <td>CLIDINIUM</td>\n",
       "      <td>chemical</td>\n",
       "      <td>000739ec-f968-4cdb-bb8d-bf055c7fac55</td>\n",
       "      <td>CLIDINIUM</td>\n",
       "      <td>7020-55-5</td>\n",
       "      <td>C22H26NO3</td>\n",
       "      <td>C[N+]12CCC(CC1)C(C2)OC(=O)C(c3ccccc3)(c4ccccc4)O</td>\n",
       "      <td>IONIC MOIETY</td>\n",
       "    </tr>\n",
       "    <tr>\n",
       "      <th>16</th>\n",
       "      <td>6864-37-5</td>\n",
       "      <td>6864-37-5</td>\n",
       "      <td>3K4H01E55X</td>\n",
       "      <td>4,4'-METHYLENEBIS(2-METHYLCYCLOHEXYLAMINE)|BIS...</td>\n",
       "      <td>BIS(4-AMINO-3-METHYLCYCLOHEXYL)METHANE</td>\n",
       "      <td>chemical</td>\n",
       "      <td>00122cc3-cceb-4143-b587-abe9a8b19ad3</td>\n",
       "      <td>BIS(4-AMINO-3-METHYLCYCLOHEXYL)METHANE</td>\n",
       "      <td>6864-37-5</td>\n",
       "      <td>C15H30N2</td>\n",
       "      <td>CC1CC(CCC1N)CC2CCC(C(C2)C)N</td>\n",
       "      <td>INGREDIENT SUBSTANCE</td>\n",
       "    </tr>\n",
       "    <tr>\n",
       "      <th>17</th>\n",
       "      <td>125109-85-5</td>\n",
       "      <td>125109-85-5</td>\n",
       "      <td>Z92022479Y</td>\n",
       "      <td>ISOPROPYLPHENYLBUTANAL|BENZENEPROPANAL, .BETA....</td>\n",
       "      <td>ISOPROPYLPHENYLBUTANAL</td>\n",
       "      <td>chemical</td>\n",
       "      <td>00122e91-8cf7-4bec-a463-5c09a5243eab</td>\n",
       "      <td>ISOPROPYLPHENYLBUTANAL</td>\n",
       "      <td>125109-85-5</td>\n",
       "      <td>C13H18O</td>\n",
       "      <td>CC(C)c1cccc(c1)C(C)CC=O</td>\n",
       "      <td>INGREDIENT SUBSTANCE</td>\n",
       "    </tr>\n",
       "    <tr>\n",
       "      <th>19</th>\n",
       "      <td>25394-63-2</td>\n",
       "      <td>25394-63-2</td>\n",
       "      <td>WZS9L0Z92R</td>\n",
       "      <td>AMFECLORAL, (+)-|(+)-AMFECLORAL|BENZENEETHANAM...</td>\n",
       "      <td>AMFECLORAL, (+)-</td>\n",
       "      <td>chemical</td>\n",
       "      <td>001487f1-962d-4ec0-8052-2d648f8f4cb3</td>\n",
       "      <td>AMFECLORAL, (+)-</td>\n",
       "      <td>25394-63-2</td>\n",
       "      <td>C11H12Cl3N</td>\n",
       "      <td>CC(Cc1ccccc1)/N=C/C(Cl)(Cl)Cl</td>\n",
       "      <td>INGREDIENT SUBSTANCE</td>\n",
       "    </tr>\n",
       "  </tbody>\n",
       "</table>\n",
       "</div>"
      ],
      "text/plain": [
       "                      CAS  CAS_primary        UNII  \\\n",
       "2   51599-37-2|43064-17-1   51599-37-2  25619NA95Y   \n",
       "8               7020-55-5    7020-55-5  BO76JF850N   \n",
       "16              6864-37-5    6864-37-5  3K4H01E55X   \n",
       "17            125109-85-5  125109-85-5  Z92022479Y   \n",
       "19             25394-63-2   25394-63-2  WZS9L0Z92R   \n",
       "\n",
       "                                                names  \\\n",
       "2   TOLAMOLOL HYDROCHLORIDE|BENZAMIDE, 4-(2-((2-HY...   \n",
       "8   CLIDINIUM|1-AZONIABICYCLO(2.2.2)OCTANE, 3-((HY...   \n",
       "16  4,4'-METHYLENEBIS(2-METHYLCYCLOHEXYLAMINE)|BIS...   \n",
       "17  ISOPROPYLPHENYLBUTANAL|BENZENEPROPANAL, .BETA....   \n",
       "19  AMFECLORAL, (+)-|(+)-AMFECLORAL|BENZENEETHANAM...   \n",
       "\n",
       "                           preferred_names substanceClass  \\\n",
       "2                  TOLAMOLOL HYDROCHLORIDE       chemical   \n",
       "8                                CLIDINIUM       chemical   \n",
       "16  BIS(4-AMINO-3-METHYLCYCLOHEXYL)METHANE       chemical   \n",
       "17                  ISOPROPYLPHENYLBUTANAL       chemical   \n",
       "19                        AMFECLORAL, (+)-       chemical   \n",
       "\n",
       "                                    uuid  \\\n",
       "2   00021c3c-4469-4bfd-8f12-5fee4410f7e6   \n",
       "8   000739ec-f968-4cdb-bb8d-bf055c7fac55   \n",
       "16  00122cc3-cceb-4143-b587-abe9a8b19ad3   \n",
       "17  00122e91-8cf7-4bec-a463-5c09a5243eab   \n",
       "19  001487f1-962d-4ec0-8052-2d648f8f4cb3   \n",
       "\n",
       "                                        PT           RN              MF  \\\n",
       "2                  TOLAMOLOL HYDROCHLORIDE   51599-37-2  C19H24N2O4.ClH   \n",
       "8                                CLIDINIUM    7020-55-5       C22H26NO3   \n",
       "16  BIS(4-AMINO-3-METHYLCYCLOHEXYL)METHANE    6864-37-5        C15H30N2   \n",
       "17                  ISOPROPYLPHENYLBUTANAL  125109-85-5         C13H18O   \n",
       "19                        AMFECLORAL, (+)-   25394-63-2      C11H12Cl3N   \n",
       "\n",
       "                                              SMILES             UNII_TYPE  \n",
       "2            Cc1ccccc1OCC(CNCCOc2ccc(cc2)C(=O)N)O.Cl  INGREDIENT SUBSTANCE  \n",
       "8   C[N+]12CCC(CC1)C(C2)OC(=O)C(c3ccccc3)(c4ccccc4)O          IONIC MOIETY  \n",
       "16                       CC1CC(CCC1N)CC2CCC(C(C2)C)N  INGREDIENT SUBSTANCE  \n",
       "17                           CC(C)c1cccc(c1)C(C)CC=O  INGREDIENT SUBSTANCE  \n",
       "19                     CC(Cc1ccccc1)/N=C/C(Cl)(Cl)Cl  INGREDIENT SUBSTANCE  "
      ]
     },
     "execution_count": 114,
     "metadata": {},
     "output_type": "execute_result"
    }
   ],
   "source": [
    "chem_noinchi[chem_noinchi.columns[chem_noinchi.count()>4000]].head()"
   ]
  },
  {
   "cell_type": "code",
   "execution_count": 115,
   "metadata": {
    "collapsed": false
   },
   "outputs": [],
   "source": [
    "# Its not here (which is where the mapping came from)\n",
    "#https://fdasis.nlm.nih.gov/srs/unii/25619na95y"
   ]
  },
  {
   "cell_type": "code",
   "execution_count": null,
   "metadata": {
    "collapsed": true
   },
   "outputs": [],
   "source": [
    "# its here: https://chem.nlm.nih.gov/chemidplus/unii/25619na95y\n",
    "# but the flat files don't contain inchikeys....\n",
    "# ftp://ftp.nlm.nih.gov/nlmdata/.chemidlease/"
   ]
  }
 ],
 "metadata": {
  "kernelspec": {
   "display_name": "Python 3",
   "language": "python",
   "name": "python3"
  },
  "language_info": {
   "codemirror_mode": {
    "name": "ipython",
    "version": 3
   },
   "file_extension": ".py",
   "mimetype": "text/x-python",
   "name": "python",
   "nbconvert_exporter": "python",
   "pygments_lexer": "ipython3",
   "version": "3.5.2"
  }
 },
 "nbformat": 4,
 "nbformat_minor": 0
}
