{
 "cells": [
  {
   "cell_type": "markdown",
   "metadata": {},
   "source": [
    "## map to wikidata"
   ]
  },
  {
   "cell_type": "code",
   "execution_count": 49,
   "metadata": {
    "collapsed": true
   },
   "outputs": [],
   "source": [
    "from wikidataintegrator import wdi_helpers\n",
    "import pandas as pd\n",
    "df = pd.read_csv('fullSeedData-2016-06-16_UNII.csv', index_col=0, low_memory=False)"
   ]
  },
  {
   "cell_type": "code",
   "execution_count": 50,
   "metadata": {
    "collapsed": false
   },
   "outputs": [],
   "source": [
    "# no mixtures\n",
    "df = df.query(\"substanceClass == 'chemical'\")"
   ]
  },
  {
   "cell_type": "code",
   "execution_count": 69,
   "metadata": {
    "collapsed": false
   },
   "outputs": [
    {
     "name": "stdout",
     "output_type": "stream",
     "text": [
      "151546 inchikeys in wikidata\n"
     ]
    }
   ],
   "source": [
    "# get all inchikeys in wikidata\n",
    "inchi_wdid = wdi_helpers.id_mapper(\"P235\")\n",
    "wdid_inchi = {v:k for k,v in inchi_wdid.items()}\n",
    "print(\"{} inchikeys in wikidata\".format(len(inchi_wdid)))"
   ]
  },
  {
   "cell_type": "code",
   "execution_count": 51,
   "metadata": {
    "collapsed": false
   },
   "outputs": [
    {
     "name": "stdout",
     "output_type": "stream",
     "text": [
      "70754 cas numbers in wikidata\n"
     ]
    }
   ],
   "source": [
    "# dict of CAS id to wikidata QID\n",
    "cas_wdid = wdi_helpers.id_mapper(\"P231\")\n",
    "print(\"{} cas numbers in wikidata\".format(len(cas_wdid)))"
   ]
  },
  {
   "cell_type": "code",
   "execution_count": 52,
   "metadata": {
    "collapsed": false
   },
   "outputs": [
    {
     "data": {
      "text/plain": [
       "CAS_primary    54190\n",
       "qid_cas        52632\n",
       "dtype: int64"
      ]
     },
     "execution_count": 52,
     "metadata": {},
     "output_type": "execute_result"
    }
   ],
   "source": [
    "df['qid_cas'] = df.CAS_primary.map(lambda x:cas_wdid.get(x, None))\n",
    "df[['CAS_primary', 'qid_cas']].count()"
   ]
  },
  {
   "cell_type": "code",
   "execution_count": 53,
   "metadata": {
    "collapsed": false
   },
   "outputs": [
    {
     "name": "stdout",
     "output_type": "stream",
     "text": [
      "58966 UNII in wikidata\n"
     ]
    }
   ],
   "source": [
    "# dict of UNII id to wikidata QID\n",
    "unii_wdid = wdi_helpers.id_mapper(\"P652\")\n",
    "print(\"{} UNII in wikidata\".format(len(unii_wdid)))"
   ]
  },
  {
   "cell_type": "code",
   "execution_count": 54,
   "metadata": {
    "collapsed": false
   },
   "outputs": [
    {
     "data": {
      "text/plain": [
       "CAS_primary    54190\n",
       "qid_cas        52632\n",
       "qid_unii       52627\n",
       "dtype: int64"
      ]
     },
     "execution_count": 54,
     "metadata": {},
     "output_type": "execute_result"
    }
   ],
   "source": [
    "df['qid_unii'] = df.UNII.map(lambda x:unii_wdid.get(x, None))\n",
    "df[['CAS_primary', 'qid_cas', 'qid_unii']].count()"
   ]
  },
  {
   "cell_type": "code",
   "execution_count": 67,
   "metadata": {
    "collapsed": false
   },
   "outputs": [
    {
     "data": {
      "text/plain": [
       "True     52029\n",
       "False     2402\n",
       "dtype: int64"
      ]
     },
     "execution_count": 67,
     "metadata": {},
     "output_type": "execute_result"
    }
   ],
   "source": [
    "# check agreement of cas and unii, and add inchikey\n",
    "(df.qid_cas == df.qid_unii).value_counts()"
   ]
  },
  {
   "cell_type": "code",
   "execution_count": 72,
   "metadata": {
    "collapsed": false
   },
   "outputs": [
    {
     "data": {
      "text/plain": [
       "CAS                 54431\n",
       "UNII                54431\n",
       "qid_cas             52632\n",
       "qid_unii            52627\n",
       "inchikey_from_wd    51954\n",
       "dtype: int64"
      ]
     },
     "execution_count": 72,
     "metadata": {},
     "output_type": "execute_result"
    }
   ],
   "source": [
    "df['inchikey_from_wd'] = df[df.qid_cas == df.qid_unii].qid_cas.map(lambda x:wdid_inchi.get(x, None))\n",
    "df[['CAS', 'UNII', 'qid_cas', 'qid_unii', 'inchikey_from_wd']].count()"
   ]
  },
  {
   "cell_type": "code",
   "execution_count": 74,
   "metadata": {
    "collapsed": false
   },
   "outputs": [
    {
     "data": {
      "text/html": [
       "<div>\n",
       "<table border=\"1\" class=\"dataframe\">\n",
       "  <thead>\n",
       "    <tr style=\"text-align: right;\">\n",
       "      <th></th>\n",
       "      <th>CAS</th>\n",
       "      <th>CAS_primary</th>\n",
       "      <th>ECHA (EC/EINECS)</th>\n",
       "      <th>MERCK INDEX</th>\n",
       "      <th>NCI_THESAURUS</th>\n",
       "      <th>UNII</th>\n",
       "      <th>names</th>\n",
       "      <th>preferred_names</th>\n",
       "      <th>substanceClass</th>\n",
       "      <th>uuid</th>\n",
       "      <th>PT</th>\n",
       "      <th>RN</th>\n",
       "      <th>EC</th>\n",
       "      <th>NCIT</th>\n",
       "      <th>MF</th>\n",
       "      <th>INCHIKEY</th>\n",
       "      <th>SMILES</th>\n",
       "      <th>UNII_TYPE</th>\n",
       "    </tr>\n",
       "  </thead>\n",
       "  <tbody>\n",
       "    <tr>\n",
       "      <th>19</th>\n",
       "      <td>25394-63-2</td>\n",
       "      <td>25394-63-2</td>\n",
       "      <td>NaN</td>\n",
       "      <td>NaN</td>\n",
       "      <td>NaN</td>\n",
       "      <td>WZS9L0Z92R</td>\n",
       "      <td>AMFECLORAL, (+)-|(+)-AMFECLORAL|BENZENEETHANAM...</td>\n",
       "      <td>AMFECLORAL, (+)-</td>\n",
       "      <td>chemical</td>\n",
       "      <td>001487f1-962d-4ec0-8052-2d648f8f4cb3</td>\n",
       "      <td>AMFECLORAL, (+)-</td>\n",
       "      <td>25394-63-2</td>\n",
       "      <td>NaN</td>\n",
       "      <td>NaN</td>\n",
       "      <td>C11H12Cl3N</td>\n",
       "      <td>NaN</td>\n",
       "      <td>CC(Cc1ccccc1)/N=C/C(Cl)(Cl)Cl</td>\n",
       "      <td>INGREDIENT SUBSTANCE</td>\n",
       "    </tr>\n",
       "    <tr>\n",
       "      <th>67</th>\n",
       "      <td>1307301-38-7</td>\n",
       "      <td>1307301-38-7</td>\n",
       "      <td>NaN</td>\n",
       "      <td>NaN</td>\n",
       "      <td>C73845</td>\n",
       "      <td>LR57574HN8</td>\n",
       "      <td>DA 1773|LA 391|SODIUM PICOSULFATE|SODIUM PICOS...</td>\n",
       "      <td>SODIUM PICOSULFATE</td>\n",
       "      <td>chemical</td>\n",
       "      <td>005a172f-4991-421b-ac58-3809e0e15dfa</td>\n",
       "      <td>SODIUM PICOSULFATE</td>\n",
       "      <td>1307301-38-7</td>\n",
       "      <td>NaN</td>\n",
       "      <td>C73845</td>\n",
       "      <td>C18H13NO8S2.2Na.H2O</td>\n",
       "      <td>FHYUVJHZGPGDSP-UHFFFAOYSA-L</td>\n",
       "      <td>c1ccnc(c1)C(c2ccc(cc2)OS(=O)(=O)[O-])c3ccc(cc3...</td>\n",
       "      <td>INGREDIENT SUBSTANCE</td>\n",
       "    </tr>\n",
       "    <tr>\n",
       "      <th>80</th>\n",
       "      <td>116002-72-3</td>\n",
       "      <td>116002-72-3</td>\n",
       "      <td>NaN</td>\n",
       "      <td>NaN</td>\n",
       "      <td>NaN</td>\n",
       "      <td>4XZ3RL53CZ</td>\n",
       "      <td>3-FLAVANOL, CIS-|3-FLAVANOL, CIS-(+/-)-|2H-1-B...</td>\n",
       "      <td>3-FLAVANOL, CIS-</td>\n",
       "      <td>chemical</td>\n",
       "      <td>0069697b-4086-4ba2-83fa-0929b6c54225</td>\n",
       "      <td>3-FLAVANOL, CIS-</td>\n",
       "      <td>116002-72-3</td>\n",
       "      <td>NaN</td>\n",
       "      <td>NaN</td>\n",
       "      <td>C15H14O2</td>\n",
       "      <td>NaN</td>\n",
       "      <td>c1ccc(cc1)[C@@H]2[C@@H](Cc3ccccc3O2)O</td>\n",
       "      <td>INGREDIENT SUBSTANCE</td>\n",
       "    </tr>\n",
       "    <tr>\n",
       "      <th>146</th>\n",
       "      <td>66899-87-4</td>\n",
       "      <td>66899-87-4</td>\n",
       "      <td>NaN</td>\n",
       "      <td>NaN</td>\n",
       "      <td>NaN</td>\n",
       "      <td>1214RHT70G</td>\n",
       "      <td>4H-BENZO(A)QUINOLIZINE, 3-ETHYL-1,6,7,11B-TETR...</td>\n",
       "      <td>DEHYDROISOEMETINE, (+/-)-</td>\n",
       "      <td>chemical</td>\n",
       "      <td>00c30b82-2d63-4876-8350-50832c4e8b36</td>\n",
       "      <td>DEHYDROISOEMETINE, (+/-)-</td>\n",
       "      <td>66899-87-4</td>\n",
       "      <td>NaN</td>\n",
       "      <td>NaN</td>\n",
       "      <td>C29H38N2O4</td>\n",
       "      <td>NaN</td>\n",
       "      <td>CCC1=C(C[C@H]2c3cc(c(cc3CCN2C1)OC)OC)C[C@H]4c5...</td>\n",
       "      <td>INGREDIENT SUBSTANCE</td>\n",
       "    </tr>\n",
       "    <tr>\n",
       "      <th>162</th>\n",
       "      <td>90242-86-7|73365-47-6|72244-00-9</td>\n",
       "      <td>90242-86-7</td>\n",
       "      <td>NaN</td>\n",
       "      <td>NaN</td>\n",
       "      <td>NaN</td>\n",
       "      <td>J51L7OP374</td>\n",
       "      <td>3-BUTEN-2-ONE, 4-((1R,3R)-2,2,3-TRIMETHYL-6-ME...</td>\n",
       "      <td>.GAMMA.-IRONE, TRANS-(+/-)-</td>\n",
       "      <td>chemical</td>\n",
       "      <td>00d4e6a8-8944-4267-85e1-54274e2aee38</td>\n",
       "      <td>.GAMMA.-IRONE, TRANS-(+/-)-</td>\n",
       "      <td>90242-86-7</td>\n",
       "      <td>NaN</td>\n",
       "      <td>NaN</td>\n",
       "      <td>C14H22O</td>\n",
       "      <td>NaN</td>\n",
       "      <td>C[C@@H]1CCC(=C)[C@H](C1(C)C)/C=C/C(=O)C</td>\n",
       "      <td>INGREDIENT SUBSTANCE</td>\n",
       "    </tr>\n",
       "  </tbody>\n",
       "</table>\n",
       "</div>"
      ],
      "text/plain": [
       "                                  CAS   CAS_primary ECHA (EC/EINECS)  \\\n",
       "19                         25394-63-2    25394-63-2              NaN   \n",
       "67                       1307301-38-7  1307301-38-7              NaN   \n",
       "80                        116002-72-3   116002-72-3              NaN   \n",
       "146                        66899-87-4    66899-87-4              NaN   \n",
       "162  90242-86-7|73365-47-6|72244-00-9    90242-86-7              NaN   \n",
       "\n",
       "    MERCK INDEX NCI_THESAURUS        UNII  \\\n",
       "19          NaN           NaN  WZS9L0Z92R   \n",
       "67          NaN        C73845  LR57574HN8   \n",
       "80          NaN           NaN  4XZ3RL53CZ   \n",
       "146         NaN           NaN  1214RHT70G   \n",
       "162         NaN           NaN  J51L7OP374   \n",
       "\n",
       "                                                 names  \\\n",
       "19   AMFECLORAL, (+)-|(+)-AMFECLORAL|BENZENEETHANAM...   \n",
       "67   DA 1773|LA 391|SODIUM PICOSULFATE|SODIUM PICOS...   \n",
       "80   3-FLAVANOL, CIS-|3-FLAVANOL, CIS-(+/-)-|2H-1-B...   \n",
       "146  4H-BENZO(A)QUINOLIZINE, 3-ETHYL-1,6,7,11B-TETR...   \n",
       "162  3-BUTEN-2-ONE, 4-((1R,3R)-2,2,3-TRIMETHYL-6-ME...   \n",
       "\n",
       "                 preferred_names substanceClass  \\\n",
       "19              AMFECLORAL, (+)-       chemical   \n",
       "67            SODIUM PICOSULFATE       chemical   \n",
       "80              3-FLAVANOL, CIS-       chemical   \n",
       "146    DEHYDROISOEMETINE, (+/-)-       chemical   \n",
       "162  .GAMMA.-IRONE, TRANS-(+/-)-       chemical   \n",
       "\n",
       "                                     uuid                           PT  \\\n",
       "19   001487f1-962d-4ec0-8052-2d648f8f4cb3             AMFECLORAL, (+)-   \n",
       "67   005a172f-4991-421b-ac58-3809e0e15dfa           SODIUM PICOSULFATE   \n",
       "80   0069697b-4086-4ba2-83fa-0929b6c54225             3-FLAVANOL, CIS-   \n",
       "146  00c30b82-2d63-4876-8350-50832c4e8b36    DEHYDROISOEMETINE, (+/-)-   \n",
       "162  00d4e6a8-8944-4267-85e1-54274e2aee38  .GAMMA.-IRONE, TRANS-(+/-)-   \n",
       "\n",
       "               RN   EC    NCIT                   MF  \\\n",
       "19     25394-63-2  NaN     NaN           C11H12Cl3N   \n",
       "67   1307301-38-7  NaN  C73845  C18H13NO8S2.2Na.H2O   \n",
       "80    116002-72-3  NaN     NaN             C15H14O2   \n",
       "146    66899-87-4  NaN     NaN           C29H38N2O4   \n",
       "162    90242-86-7  NaN     NaN              C14H22O   \n",
       "\n",
       "                        INCHIKEY  \\\n",
       "19                           NaN   \n",
       "67   FHYUVJHZGPGDSP-UHFFFAOYSA-L   \n",
       "80                           NaN   \n",
       "146                          NaN   \n",
       "162                          NaN   \n",
       "\n",
       "                                                SMILES             UNII_TYPE  \n",
       "19                       CC(Cc1ccccc1)/N=C/C(Cl)(Cl)Cl  INGREDIENT SUBSTANCE  \n",
       "67   c1ccnc(c1)C(c2ccc(cc2)OS(=O)(=O)[O-])c3ccc(cc3...  INGREDIENT SUBSTANCE  \n",
       "80               c1ccc(cc1)[C@@H]2[C@@H](Cc3ccccc3O2)O  INGREDIENT SUBSTANCE  \n",
       "146  CCC1=C(C[C@H]2c3cc(c(cc3CCN2C1)OC)OC)C[C@H]4c5...  INGREDIENT SUBSTANCE  \n",
       "162            C[C@@H]1CCC(=C)[C@H](C1(C)C)/C=C/C(=O)C  INGREDIENT SUBSTANCE  "
      ]
     },
     "execution_count": 74,
     "metadata": {},
     "output_type": "execute_result"
    }
   ],
   "source": [
    "# some things we miss:\n",
    "missing_df = df[df.qid_cas.isnull() & df.qid_unii.isnull()]\n",
    "missing_df[missing_df.columns[missing_df.count()>200]].head()"
   ]
  },
  {
   "cell_type": "code",
   "execution_count": 75,
   "metadata": {
    "collapsed": false
   },
   "outputs": [
    {
     "data": {
      "text/plain": [
       "UNII        1410\n",
       "INCHIKEY     748\n",
       "dtype: int64"
      ]
     },
     "execution_count": 75,
     "metadata": {},
     "output_type": "execute_result"
    }
   ],
   "source": [
    "# but most of them we got inchi from the UNII mapping file\n",
    "missing_df[['UNII','INCHIKEY']].count()"
   ]
  },
  {
   "cell_type": "markdown",
   "metadata": {},
   "source": [
    "### mixtures"
   ]
  },
  {
   "cell_type": "code",
   "execution_count": 76,
   "metadata": {
    "collapsed": false
   },
   "outputs": [],
   "source": [
    "df = pd.read_csv('fullSeedData-2016-06-16_UNII.csv', index_col=0, low_memory=False)\n",
    "df = df.query(\"substanceClass == 'mixture'\")"
   ]
  },
  {
   "cell_type": "markdown",
   "metadata": {},
   "source": [
    "### Example\n",
    "[3-Heptene](https://chem.nlm.nih.gov/chemidplus/rn/592-78-9) is a mixture of\n",
    "[3-Heptene, (3E)-](https://chem.nlm.nih.gov/chemidplus/rn/14686-14-7) and\n",
    "[3-Heptene, (3Z)-](https://chem.nlm.nih.gov/chemidplus/rn/7642-10-6)\n",
    "\n",
    "#### in wikidata:\n",
    "[(3E)-3-heptene](https://www.wikidata.org/wiki/Q27160264)\n",
    "\n",
    "[(3Z)-3-heptene](https://www.wikidata.org/wiki/Q27254474)"
   ]
  },
  {
   "cell_type": "code",
   "execution_count": 100,
   "metadata": {
    "collapsed": false
   },
   "outputs": [
    {
     "data": {
      "text/plain": [
       "66                                [Q27254147, Q27271508]\n",
       "76     [Q52822, Q27103409, Q27103331, Q27281243, Q272...\n",
       "172                               [Q27279986, Q27275260]\n",
       "174                               [Q27252036, Q27264264]\n",
       "186                       [None, None, None, None, None]\n",
       "Name: mixture_UNII, dtype: object"
      ]
     },
     "execution_count": 100,
     "metadata": {},
     "output_type": "execute_result"
    }
   ],
   "source": [
    "# map \"mixture_UNII\" field to wikidata QIDs\n",
    "mapper = lambda uniis: [unii_wdid.get(x, None) for x in uniis]\n",
    "wdid_mixture_from_unii = df.mixture_UNII.str.split(\"|\").map(mapper)\n",
    "wdid_mixture_from_unii.head()"
   ]
  },
  {
   "cell_type": "code",
   "execution_count": 101,
   "metadata": {
    "collapsed": false
   },
   "outputs": [
    {
     "data": {
      "text/plain": [
       "66                                   Q27254147|Q27271508\n",
       "76     Q52822|Q27103409|Q27103331|Q27281243|Q27254004...\n",
       "172                                  Q27279986|Q27275260\n",
       "174                                  Q27252036|Q27264264\n",
       "186                                                 None\n",
       "Name: mixture_UNII, dtype: object"
      ]
     },
     "execution_count": 101,
     "metadata": {},
     "output_type": "execute_result"
    }
   ],
   "source": [
    "# cleanup (replace with None, if any of the mixture components are None)\n",
    "wdid_mixture_from_unii = wdid_mixture_from_unii.map(lambda x: \"|\".join(x) if None not in x else None)\n",
    "wdid_mixture_from_unii.head()"
   ]
  },
  {
   "cell_type": "code",
   "execution_count": 103,
   "metadata": {
    "collapsed": false
   },
   "outputs": [
    {
     "data": {
      "text/plain": [
       "True     1115\n",
       "False     257\n",
       "Name: mixture_UNII, dtype: int64"
      ]
     },
     "execution_count": 103,
     "metadata": {},
     "output_type": "execute_result"
    }
   ],
   "source": [
    "wdid_mixture_from_unii.notnull().value_counts()"
   ]
  },
  {
   "cell_type": "code",
   "execution_count": 109,
   "metadata": {
    "collapsed": false
   },
   "outputs": [
    {
     "data": {
      "text/plain": [
       "66     OUILVKYDBNPYBM-JDOFTSHGSA-N|OUILVKYDBNPYBM-OTK...\n",
       "76     HGUFODBRKLSHSI-UHFFFAOYSA-N|OTQFXRBLGNEOGH-UHF...\n",
       "172    QOKMHYUWJKXWOV-PLNGDYQASA-N|QOKMHYUWJKXWOV-SNA...\n",
       "174    PXGZQGDTEZPERC-IZLXSQMJSA-N|PXGZQGDTEZPERC-OLQ...\n",
       "249    ZHVUSSKUCZSPFQ-UHFFFAOYSA-N|VICXKFLOMKMGEH-UHF...\n",
       "Name: mixture_UNII, dtype: object"
      ]
     },
     "execution_count": 109,
     "metadata": {},
     "output_type": "execute_result"
    }
   ],
   "source": [
    "# map to inchi keys\n",
    "mapper = lambda wdids: [wdid_inchi.get(x, None) for x in wdids]\n",
    "inchis = wdid_mixture_from_unii[wdid_mixture_from_unii.notnull()].str.split(\"|\").map(mapper)\n",
    "inchis = inchis.map(lambda x: \"|\".join(x) if None not in x else None)\n",
    "inchis.head()"
   ]
  },
  {
   "cell_type": "code",
   "execution_count": 110,
   "metadata": {
    "collapsed": false
   },
   "outputs": [
    {
     "data": {
      "text/plain": [
       "True     1103\n",
       "False      12\n",
       "Name: mixture_UNII, dtype: int64"
      ]
     },
     "execution_count": 110,
     "metadata": {},
     "output_type": "execute_result"
    }
   ],
   "source": [
    "inchis.notnull().value_counts()"
   ]
  },
  {
   "cell_type": "markdown",
   "metadata": {},
   "source": [
    "## Summary\n",
    "### chemicals\n",
    "51954 out of 54431 have in inchikey in wikidata, on an item where both the CAS and UNII agree\n",
    "\n",
    "### mixtures\n",
    "Out of 1372 mixtures, 1115 have all components of the mixture found in wikidata by their UNII, and 1103 of those have inchikeys"
   ]
  }
 ],
 "metadata": {
  "kernelspec": {
   "display_name": "Python 3",
   "language": "python",
   "name": "python3"
  },
  "language_info": {
   "codemirror_mode": {
    "name": "ipython",
    "version": 3
   },
   "file_extension": ".py",
   "mimetype": "text/x-python",
   "name": "python",
   "nbconvert_exporter": "python",
   "pygments_lexer": "ipython3",
   "version": "3.5.2"
  }
 },
 "nbformat": 4,
 "nbformat_minor": 0
}
